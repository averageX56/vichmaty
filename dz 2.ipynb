{
 "cells": [
  {
   "cell_type": "code",
   "execution_count": 237,
   "id": "137a4d26",
   "metadata": {},
   "outputs": [],
   "source": [
    "import numpy as np \n",
    "import matplotlib.pyplot as plt\n",
    "from scipy.linalg import eigvals"
   ]
  },
  {
   "cell_type": "markdown",
   "id": "64376aba",
   "metadata": {},
   "source": [
    "#### Задание 1"
   ]
  },
  {
   "cell_type": "code",
   "execution_count": 217,
   "id": "3b743ef7",
   "metadata": {},
   "outputs": [],
   "source": [
    "def matrix_generate(rows, columns, type_ = \"full\", eps = 0, rank = None):\n",
    "    \"\"\"\n",
    "    matrix_generate(rows, columns, type_ = \"full\")\n",
    "\n",
    "    Создаёт случайную матрицу выбранного типа.\n",
    "\n",
    "    Если матрицу нужных размеров создать нельзя должен выдать\n",
    "    строку f\"Error with type {type_} and shape ({rows},{columns})\".\n",
    "\n",
    "    Parameters\n",
    "    ----------\n",
    "\n",
    "    rows : int\n",
    "        Количество строк в создаваемой матрице.\n",
    "    columns : int\n",
    "        Количество столбцов в создаваемой матрице.\n",
    "    type_ : str, optional\n",
    "        Тип создаваемой матрицы: \"full\", \"upper_triangular\", \"symmetric\", \"diagonal\", \"lower_triangular\", \"singular\", \"stepped\", \"disturbed\"\n",
    "    eps: float, optional0\n",
    "        Дополнительное число, использующееся при генерации для некоторых типов матриц.\n",
    "    rank: int\n",
    "        Ранг создаваемой матрицы\n",
    "\n",
    "    Returns\n",
    "    -------\n",
    "    out : ndarray or str\n",
    "        Выдаёт матрицу нужного типа либо ошибку.\n",
    "\n",
    "    Notes\n",
    "    -----\n",
    "    Поддерживаемые типы матриц:\n",
    "        \"full\",\"upper_triangular\",\n",
    "        \"symmetric\", \"diagonal\", \n",
    "        \"lower_triangular\", \"singular\", \n",
    "        \"stepped\", \"disturbed\"\n",
    "        ...\n",
    "\n",
    "\n",
    "    \"\"\"\n",
    "    A = None\n",
    "\n",
    "    if type_ == \"full\":\n",
    "\n",
    "        A = np.random.random(size=(rows, columns))\n",
    "\n",
    "    elif type_ == \"upper_triangular\":\n",
    "\n",
    "            A = np.triu(np.random.random(size=(rows, columns)))\n",
    "\n",
    "    elif type_ == \"lower_triangular\":\n",
    "            \n",
    "            A = np.tril(np.random.random(size=(rows, columns)))\n",
    "        \n",
    "    elif type_ == \"diagonal\":\n",
    "        \n",
    "        if rows != columns:\n",
    "            raise TypeError( f\"Error with type {type_} and shape ({rows},{columns})\")\n",
    "        \n",
    "        else: \n",
    "            A = np.diag(np.random.random(size = rows))\n",
    "\n",
    "    elif type_ == \"symmetric\":\n",
    "\n",
    "        if rows != columns:\n",
    "            raise TypeError( f\"Error with type {type_} and shape ({rows},{columns})\")\n",
    "\n",
    "        else:\n",
    "            A = np.triu(np.random.random(size=(rows, columns)))\n",
    "            A += (A.T - np.diag(np.diag(A)))\n",
    "            \n",
    "    elif type_ == \"singular\":\n",
    "         \n",
    "         A = np.random.random(size = (rows, columns))\n",
    "         A[-1, :] = 0\n",
    "\n",
    "\n",
    "    elif type_ == \"stepped\":\n",
    "\n",
    "        if not rank:\n",
    "            return 1\n",
    "        \n",
    "        elif rank > rows or rank > columns or rows != columns:\n",
    "            raise TypeError(f\"Error with type {type_}, shape ({rows},{columns}) and rank {rank}\")\n",
    "    \n",
    "        else:\n",
    "            A = np.triu(np.random.random(size=(rows,columns)))\n",
    "            if rank < rows:\n",
    "                A[rows-rank:, :] = 0\n",
    "                \n",
    "\n",
    "    elif type_ == \"disturbed\":\n",
    "         \n",
    "        A = eps * (2 * np.random.random(size=(rows,columns)) - 1)\n",
    "    \n",
    "    else:\n",
    "         \n",
    "         raise ValueError(f'No such type {type_}')\n",
    "\n",
    "    return A"
   ]
  },
  {
   "cell_type": "code",
   "execution_count": 177,
   "id": "c36d77ad",
   "metadata": {},
   "outputs": [
    {
     "data": {
      "image/png": "[encoded data removed]",
      "text/plain": [
       "<Figure size 640x480 with 1 Axes>"
      ]
     },
     "metadata": {},
     "output_type": "display_data"
    }
   ],
   "source": [
    "N = 1000 # sampling points\n",
    "eps = np.linspace(1e-8, 1, 100)\n",
    "size = (19, 10)\n",
    "average_norms = []\n",
    "np.random.seed(42)\n",
    "\n",
    "for e in eps:\n",
    "    norms = []\n",
    "    for _ in range(N):\n",
    "        M = matrix_generate(size[0], size[1], \"disturbed\", e)\n",
    "        norm = np.linalg.norm(M, ord=\"fro\") # frobenius norm\n",
    "        norms.append(norm)\n",
    "    average_norms.append(np.mean(norms))\n",
    "\n",
    "plt.scatter(eps, average_norms)\n",
    "plt.xlabel('Значение epsilon')\n",
    "plt.ylabel('Среднее значение нормы матрицы возмущения')\n",
    "plt.show()"
   ]
  },
  {
   "cell_type": "code",
   "execution_count": 211,
   "id": "94a5d601",
   "metadata": {},
   "outputs": [
    {
     "name": "stdout",
     "output_type": "stream",
     "text": [
      "Probabilty of random upper_triangular matrix 4x4 being singular is: 0.0\n"
     ]
    }
   ],
   "source": [
    "N = 1000 # sampling points\n",
    "np.random.seed(42)\n",
    "type_ = 'upper_triangular'\n",
    "size = (4,4)\n",
    "\n",
    "matrices = list(matrix_generate(size[0], size[1], type_, rank=3) for _ in range(N)) \n",
    "svals = np.array(list(np.linalg.svdvals(m) for m in matrices))\n",
    "min_svals = np.array(list(np.min(v) for v in svals))\n",
    "num_nonzero = np.count_nonzero(min_svals)\n",
    "probability = (N - np.count_nonzero(min_svals)) / N\n",
    "\n",
    "print(f'Probabilty of random {type_} matrix {size[0]}x{size[1]} being singular is: {probability}')"
   ]
  },
  {
   "cell_type": "markdown",
   "id": "a26e719c",
   "metadata": {},
   "source": [
    "#### Задание 2 "
   ]
  },
  {
   "cell_type": "code",
   "execution_count": null,
   "id": "74d65976",
   "metadata": {},
   "outputs": [],
   "source": [
    "def norm(x, ord=1):\n",
    "    if not (x.any()):\n",
    "        return 0\n",
    "    else: \n",
    "        x = np.array(x)\n",
    "        dim = x.ndim\n",
    "\n",
    "    if ord == 1:\n",
    "\n",
    "        if dim == 1:\n",
    "            return sum(np.abs(x))\n",
    "        \n",
    "        elif dim == 2:\n",
    "            x = np.abs(x)\n",
    "            col_sum = np.sum(x, axis=1)\n",
    "            return max(col_sum)\n",
    "        \n",
    "    elif ord == 2:\n",
    "\n",
    "        if dim == 1: \n",
    "            return np.sqrt(sum(x**2))\n",
    "        \n",
    "        if dim == 2:\n",
    "            M = np.dot(x.T, x)\n",
    "            eig = eigvals(M)\n",
    "            return np.real(np.sqrt(max(eig)))\n",
    "        \n",
    "    elif ord == 'inf':\n",
    "\n",
    "        if dim == 1:\n",
    "            return (max(np.abs(x)))\n",
    "        \n",
    "        elif dim == 2:\n",
    "            x = np.abs(x)\n",
    "            rows_sum = np.sum(x, axis=0)\n",
    "            return max(rows_sum)\n",
    "# можно пж не писать документацию((((("
   ]
  },
  {
   "cell_type": "markdown",
   "id": "bf46ff8c",
   "metadata": {},
   "source": [
    "#### Задание 3"
   ]
  },
  {
   "cell_type": "markdown",
   "id": "c7c0c2f0",
   "metadata": {},
   "source": [
    "Найдите константы $C_1$ и $C_2$ такие, что\n",
    "\n",
    "$C_1||x||_2 \\leq ||x||_1 \\leq C_2||x||_2$"
   ]
  },
  {
   "cell_type": "markdown",
   "id": "4dfb2944",
   "metadata": {},
   "source": [
    "$\\boxed{C_2 = \\sqrt{n}}$\n",
    "\n",
    "$\\textbf{Доказательство:}$\n",
    "Применяем неравенство КБШ:\n",
    "$$\n",
    "\\left( \\sum_{i=1}^n |x_i| \\right)^2 \\leq \\left( \\sum_{i=1}^n 1^2 \\right) \\left( \\sum_{i=1}^n |x_i|^2 \\right) = n \\cdot \\|x\\|_2^2.\n",
    "$$\n",
    "Извлекая квадратный корень:\n",
    "$\n",
    "\\|x\\|_1 \\leq \\sqrt{n} \\cdot \\|x\\|_2.\n",
    "$\n",
    "\n",
    "Константа $\\sqrt{n}$ оптимальна, так как для $x = (1, 1, \\dots, 1)$ достигается равенство."
   ]
  },
  {
   "cell_type": "markdown",
   "id": "2023bdbd",
   "metadata": {},
   "source": [
    "$\\boxed{C_1 = 1}$\n",
    "\n",
    "$\\textbf{Доказательство:}$\n",
    "$$\n",
    "\\|x\\|_1^2 = \\left( \\sum_{i=1}^n |x_i| \\right) ^2 \\geq \\sum_{i=1}^n |x_i|^2 = \\|x\\|_2^2\n",
    "$$\n",
    "поскольку квадрат суммы не меньше суммы квадратов\n",
    "\n",
    "Для вектора $x = (1, 0, \\dots, 0)$ выполняется\n",
    "$\n",
    "\\|x\\|_1 = 1 = \\|x\\|_2,\n",
    "$"
   ]
  },
  {
   "cell_type": "markdown",
   "id": "05ff2da4",
   "metadata": {},
   "source": [
    "#### Задание 4 "
   ]
  },
  {
   "cell_type": "markdown",
   "id": "1d319a6f",
   "metadata": {},
   "source": [
    "$\\boxed{\\|x\\|_2 \\leq \\sqrt{m} \\cdot \\|x\\|_\\infty}$\n",
    "\n",
    "$\\textbf{Доказательство:}$\n",
    "Пусть $x = (x_1, x_2, \\dots, x_m)$. Тогда для каждого i выполняется $|x_i| \\leq \\|x\\|_\\infty$, поэтому\n",
    "$$\n",
    "\\sum_{i=1}^m |x_i|^2 \\leq m \\cdot (\\|x\\|_\\infty)^2.\n",
    "$$\n",
    "Извлекая квадратный корень, получаем требуемое.\n",
    "\n",
    "$\\textbf{Пример равенства:}$ $x = (1, 1, \\dots, 1)$.\n",
    "\n",
    "$\\boxed{\\|A\\|_\\infty \\leq \\sqrt{n} \\cdot \\|A\\|_2}$\n",
    "\n",
    "$\\textbf{Доказательство:}$\n",
    "Заметим, что $\\|A\\|_\\infty = \\max_{1 \\leq i \\leq m} \\|e_i^T A\\|_1$. Для любого вектора v длины n верно $\\|v\\|_1 \\leq \\sqrt{n} \\cdot \\|v\\|_2$, поэтому\n",
    "$$\n",
    "\\|e_i^T A\\|_1 \\leq \\sqrt{n} \\cdot \\|e_i^T A\\|_2 \\leq \\sqrt{n} \\cdot \\|A\\|_2.\n",
    "$$\n",
    "Взяв максимум по i, получаем неравенство.\n",
    "\n",
    "$\\textbf{Пример равенства:}$ Матрица-строка из единиц $A = \\begin{pmatrix} 1 & 1 & \\dots & 1 \\end{pmatrix}$."
   ]
  }
 ],
 "metadata": {
  "kernelspec": {
   "display_name": "Python 3",
   "language": "python",
   "name": "python3"
  },
  "language_info": {
   "codemirror_mode": {
    "name": "ipython",
    "version": 3
   },
   "file_extension": ".py",
   "mimetype": "text/x-python",
   "name": "python",
   "nbconvert_exporter": "python",
   "pygments_lexer": "ipython3",
   "version": "3.13.1"
  }
 },
 "nbformat": 4,
 "nbformat_minor": 5
}
